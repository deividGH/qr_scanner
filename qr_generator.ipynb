{
 "cells": [
  {
   "cell_type": "markdown",
   "metadata": {},
   "source": [
    "Generar código QR "
   ]
  },
  {
   "cell_type": "code",
   "execution_count": 20,
   "metadata": {},
   "outputs": [],
   "source": [
    "import qrcode\n",
    "import json\n",
    "\n",
    "data = {\n",
    "    \"salon\" : \"S501\"\n",
    "}\n",
    "\n",
    "qr = qrcode.QRCode(\n",
    "    version=1,\n",
    "    error_correction=qrcode.constants.ERROR_CORRECT_L,\n",
    "    box_size=10,\n",
    "    border=4,\n",
    ")\n",
    "\n",
    "\n",
    "qr.add_data(json.dumps(data)) \n",
    "qr.make(fit=True)\n",
    "\n",
    "img = qr.make_image(fill='black', back_color='white')\n",
    "\n",
    "img.save(\"data/codigo_qr.png\")"
   ]
  },
  {
   "cell_type": "code",
   "execution_count": 2,
   "metadata": {},
   "outputs": [
    {
     "name": "stdout",
     "output_type": "stream",
     "text": [
      "Documento insertado con éxito.\n"
     ]
    }
   ],
   "source": [
    "from pymongo import MongoClient\n",
    "\n",
    "# Conexión a MongoDB en localhost\n",
    "client = MongoClient(\"mongodb://localhost:27017/\")\n",
    "\n",
    "# Seleccionar la base de datos\n",
    "db = client[\"QR_Scanner\"]\n",
    "\n",
    "# Seleccionar la colección\n",
    "asistencias = db[\"Asistencia\"]\n",
    "\n",
    "# Insertar un documento de prueba\n",
    "asistencias.insert_one({\n",
    "    \"id_salon\": \"S501\",\n",
    "    \"id_curso\": \"C101\",\n",
    "    \"docente\": \"D2001\",\n",
    "    \"fecha\": \"2025-02-06T10:00:00\",\n",
    "    \"estudiantes\": []\n",
    "})\n",
    "\n",
    "print(\"Documento insertado con éxito.\")\n"
   ]
  },
  {
   "cell_type": "markdown",
   "metadata": {},
   "source": [
    "## Conexión Mongo"
   ]
  },
  {
   "cell_type": "code",
   "execution_count": 1,
   "metadata": {},
   "outputs": [],
   "source": [
    "from pymongo import MongoClient\n",
    "from datetime import datetime\n",
    "\n",
    "# Conectarse a MongoDB\n",
    "client = MongoClient(\"mongodb://localhost:27017/\")\n",
    "db = client[\"QR_Scanner\"]\n",
    "asistencias = db[\"Asistencia\"]"
   ]
  },
  {
   "cell_type": "markdown",
   "metadata": {},
   "source": [
    "## Traer data de cursos"
   ]
  },
  {
   "cell_type": "code",
   "execution_count": null,
   "metadata": {},
   "outputs": [
    {
     "name": "stdout",
     "output_type": "stream",
     "text": [
      "Curso activo en S501: Matemáticas Avanzadas con D2001\n"
     ]
    }
   ],
   "source": [
    "\n",
    "import locale\n",
    "\n",
    "cursos = db[\"Cursos\"]\n",
    "locale.setlocale(locale.LC_TIME, 'es_ES.utf8')  \n",
    "\n",
    "# Parámetros de búsqueda\n",
    "salon = \"S501\"\n",
    "hora_actual = datetime.now().strftime(\"%H:%M:%S\")  # Obtener la hora actual en formato HH:MM:SS\n",
    "dia_actual = datetime.today().strftime(\"%A\").lower()  # Obtener el día en español\n",
    "\n",
    "# Buscar el curso activo en ese salón y horario\n",
    "curso_actual = cursos.find_one({\n",
    "    \"id_salon\": salon,\n",
    "    \"horario\": {\n",
    "        \"$elemMatch\": {\n",
    "            \"dia\": dia_actual,\n",
    "            \"hora_inicio\": {\"$lte\": hora_actual},  # La clase ya inició\n",
    "            \"hora_fin\": {\"$gte\": hora_actual}      # La clase aún no ha terminado\n",
    "        }\n",
    "    }\n",
    "})\n",
    "\n",
    "# Mostrar el curso activo\n",
    "if curso_actual:\n",
    "    print(f\"Curso activo en {salon}: {curso_actual['nombre']} con {curso_actual['docente']}\")\n",
    "else:\n",
    "    print(f\"No hay curso activo en el salón {salon} en este momento.\")\n"
   ]
  },
  {
   "cell_type": "markdown",
   "metadata": {},
   "source": [
    "## Traer data usuario"
   ]
  },
  {
   "cell_type": "code",
   "execution_count": 4,
   "metadata": {},
   "outputs": [
    {
     "name": "stdout",
     "output_type": "stream",
     "text": [
      "{'tipo': 'docente', 'datos': {'_id': 'D001', 'nombre': 'José David Alvarez Plata', 'correo': 'jdalvarezp@udistrital.edu.co', 'contraseña': 1234, 'tipo_usuario': 'docente', 'modalidad': 'planta', 'estado': 'activo'}}\n"
     ]
    }
   ],
   "source": [
    "from pymongo import MongoClient\n",
    "\n",
    "correo_a_buscar = \"jdalvarezp@udistrital.edu.co\"\n",
    "\n",
    "docente = db[\"Docentes\"].find_one({\"correo\": correo_a_buscar})\n",
    "if docente:\n",
    "    print({\"tipo\": \"docente\", \"datos\": docente})\n",
    "else:\n",
    "    estudiante = db[\"Estudiantes\"].find_one({\"correo\": correo_a_buscar})\n",
    "    if estudiante:\n",
    "        print({\"tipo\": \"estudiante\", \"datos\": estudiante})\n",
    "    else:\n",
    "        print(\"No encontrado\")\n"
   ]
  },
  {
   "cell_type": "code",
   "execution_count": 22,
   "metadata": {},
   "outputs": [
    {
     "data": {
      "text/plain": [
       "'22:43:09'"
      ]
     },
     "execution_count": 22,
     "metadata": {},
     "output_type": "execute_result"
    }
   ],
   "source": [
    "from datetime import datetime\n",
    "\n",
    "datetime.now().strftime(\"%H:%M:%S\")  "
   ]
  },
  {
   "cell_type": "code",
   "execution_count": 18,
   "metadata": {},
   "outputs": [
    {
     "data": {
      "text/plain": [
       "'2025-02-07'"
      ]
     },
     "execution_count": 18,
     "metadata": {},
     "output_type": "execute_result"
    }
   ],
   "source": [
    "datetime.now().strftime(\"%Y-%m-%d\")"
   ]
  },
  {
   "cell_type": "code",
   "execution_count": 19,
   "metadata": {},
   "outputs": [
    {
     "name": "stdout",
     "output_type": "stream",
     "text": [
      "sábado\n"
     ]
    }
   ],
   "source": [
    "import locale\n",
    "from datetime import datetime\n",
    "\n",
    "# Configurar el idioma a español\n",
    "#locale.setlocale(locale.LC_TIME, 'es_ES.utf8')  # En Linux/Mac\n",
    "locale.setlocale(locale.LC_TIME, 'Spanish_Spain.1252')  # En Windows\n",
    "\n",
    "# Obtener el nombre del día en español\n",
    "nombre_dia = datetime.today().strftime('%A')\n",
    "\n",
    "print(nombre_dia)  # Ejemplo: 'miércoles'\n"
   ]
  },
  {
   "cell_type": "markdown",
   "metadata": {},
   "source": [
    "## Insertar un documento"
   ]
  },
  {
   "cell_type": "code",
   "execution_count": 10,
   "metadata": {},
   "outputs": [
    {
     "name": "stdout",
     "output_type": "stream",
     "text": [
      "Documento insertado con éxito.\n"
     ]
    }
   ],
   "source": [
    "\n",
    "# Insertar un documento de prueba\n",
    "asistencias.insert_one({\n",
    "    \"id_salon\": \"S501\",\n",
    "    \"id_curso\": \"C101\",\n",
    "    \"docente\": \"D2001\",\n",
    "    \"fecha\": \"2025-02-07\",\n",
    "    \"estudiantes\": []\n",
    "})\n",
    "\n",
    "print(\"Documento insertado con éxito.\")\n"
   ]
  },
  {
   "cell_type": "markdown",
   "metadata": {},
   "source": [
    "## Login"
   ]
  },
  {
   "cell_type": "code",
   "execution_count": 15,
   "metadata": {},
   "outputs": [],
   "source": [
    "import tkinter as tk\n",
    "from tkinter import messagebox\n",
    "from pymongo import MongoClient\n",
    "\n",
    "class LoginApp:\n",
    "    def __init__(self):\n",
    "        # Conectar a MongoDB\n",
    "        self.client = MongoClient(\"mongodb://localhost:27017\")\n",
    "        self.db = self.client[\"QR_Scanner\"]  # Reemplaza con el nombre de tu base de datos\n",
    "        self.docentes_collection = self.db[\"Docentes\"]  # Reemplaza con el nombre de tu colección de docentes\n",
    "        self.estudiantes_collection = self.db[\"Estudiantes\"]  # Reemplaza con la colección de estudiantes\n",
    "\n",
    "        self.usuario = None\n",
    "        self.ventana = tk.Tk()\n",
    "        self.ventana.title(\"Login QR Scanner\")\n",
    "        self.ventana.geometry(\"400x600\")\n",
    "        self.ventana.config(bg=\"#f2f2f2\")\n",
    "\n",
    "        titulo = tk.Label(self.ventana, text=\"Iniciar sesión\", font=(\"Arial\", 24, \"bold\"), bg=\"#f2f2f2\")\n",
    "        titulo.pack(pady=30)\n",
    "\n",
    "        label_usuario = tk.Label(self.ventana, text=\"Usuario\", font=(\"Arial\", 14), bg=\"#f2f2f2\")\n",
    "        label_usuario.pack(pady=5)\n",
    "\n",
    "        self.entry_usuario = tk.Entry(self.ventana, font=(\"Arial\", 14), width=25, bd=2, relief=\"solid\")\n",
    "        self.entry_usuario.pack(pady=10)\n",
    "\n",
    "        label_contraseña = tk.Label(self.ventana, text=\"Contraseña\", font=(\"Arial\", 14), bg=\"#f2f2f2\")\n",
    "        label_contraseña.pack(pady=5)\n",
    "\n",
    "        self.entry_contraseña = tk.Entry(self.ventana, font=(\"Arial\", 14), show=\"*\", width=25, bd=2, relief=\"solid\")\n",
    "        self.entry_contraseña.pack(pady=10)\n",
    "\n",
    "        boton_login = tk.Button(self.ventana, text=\"Ingresar\", font=(\"Arial\", 12), bg=\"#4CAF50\", fg=\"white\", width=25, height=2, \n",
    "                                command=self.realizar_login)\n",
    "        boton_login.pack(pady=20)\n",
    "\n",
    "        boton_outlook = tk.Button(self.ventana, text=\"Ingresar con Outlook\", font=(\"Arial\", 12), bg=\"#0078D4\", fg=\"white\", width=25, height=2, \n",
    "                                  command=self.login_outlook)\n",
    "        boton_outlook.pack(pady=10)\n",
    "\n",
    "        self.ventana.mainloop()\n",
    "\n",
    "    def realizar_login(self):\n",
    "        usuario = self.entry_usuario.get()\n",
    "        contraseña = self.entry_contraseña.get()\n",
    "\n",
    "        # Buscar en docentes\n",
    "        usuario_db = self.docentes_collection.find_one({\"correo\": usuario})\n",
    "        tipo_usuario = \"docente\"\n",
    "\n",
    "        # Si no está en docentes, buscar en estudiantes\n",
    "        if not usuario_db:\n",
    "            usuario_db = self.estudiantes_collection.find_one({\"correo\": usuario})\n",
    "            tipo_usuario = \"estudiante\"\n",
    "\n",
    "        # Validar credenciales\n",
    "        if usuario_db and usuario_db[\"contraseña\"] == contraseña:\n",
    "            messagebox.showinfo(\"Login exitoso\", f\"¡Bienvenido {usuario} ({tipo_usuario})!\")\n",
    "            self.usuario = usuario\n",
    "            self.ventana.destroy()\n",
    "        else:\n",
    "            messagebox.showerror(\"Error\", \"Usuario o contraseña incorrectos.\")\n",
    "\n",
    "    def login_outlook(self):\n",
    "        messagebox.showinfo(\"Login Outlook\", \"Ingreso con Outlook simulado.\")\n",
    "\n",
    "def ejecutar_login():\n",
    "    app = LoginApp()\n",
    "    return app.usuario\n",
    "\n",
    "usuario = ejecutar_login()"
   ]
  }
 ],
 "metadata": {
  "kernelspec": {
   "display_name": "venv",
   "language": "python",
   "name": "python3"
  },
  "language_info": {
   "codemirror_mode": {
    "name": "ipython",
    "version": 3
   },
   "file_extension": ".py",
   "mimetype": "text/x-python",
   "name": "python",
   "nbconvert_exporter": "python",
   "pygments_lexer": "ipython3",
   "version": "3.12.6"
  }
 },
 "nbformat": 4,
 "nbformat_minor": 2
}
